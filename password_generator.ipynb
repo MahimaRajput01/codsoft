{
 "cells": [
  {
   "cell_type": "code",
   "execution_count": 1,
   "metadata": {},
   "outputs": [
    {
     "name": "stdout",
     "output_type": "stream",
     "text": [
      "Welcome To Password Generator\n",
      "Your password is : +4G#q$36)+\n"
     ]
    }
   ],
   "source": [
    "import random\n",
    "letters=['a','b','c','d','e','f','g','h','i','j','k','l'\n",
    "         ,'m','n','o','p','q','r','s','t','u','v','w','x',\n",
    "         'y','z','A','B','C','D','F','G','H','I','J','K','L',\n",
    "         'M','N','O','P','Q','R','S','T','U','V','W','X','Y','Z']\n",
    "numbers=['0','1','2','3','4','5','6','7','8','9']\n",
    "symbols=['!','@','#','$','%','(',')','&','*','+']\n",
    "print(\"Welcome To Password Generator\")\n",
    "n_letters=int(input(\"how many letters you want in your password?\\n\"))\n",
    "n_numbers=int(input(\"how many numbers you want in your password?\\n\"))\n",
    "n_symbols=int(input(\"how many symbols you want in your password?\\n\"))\n",
    "password_list=[]\n",
    "for char in range(1,n_letters+1):\n",
    "    char=random.choice(letters)\n",
    "    password_list+=char\n",
    "for num in range(1,n_numbers+1):\n",
    "    num=random.choice(numbers)\n",
    "    password_list+=num\n",
    "for sym in range(1,n_symbols+1):\n",
    "    sym=random.choice(symbols)\n",
    "    password_list+=sym\n",
    "password=\"\"\n",
    "random.shuffle(password_list)\n",
    "for i in password_list:\n",
    "    password+=i\n",
    "print(\"Your password is :\",password)"
   ]
  }
 ],
 "metadata": {
  "kernelspec": {
   "display_name": "Python 3",
   "language": "python",
   "name": "python3"
  },
  "language_info": {
   "codemirror_mode": {
    "name": "ipython",
    "version": 3
   },
   "file_extension": ".py",
   "mimetype": "text/x-python",
   "name": "python",
   "nbconvert_exporter": "python",
   "pygments_lexer": "ipython3",
   "version": "3.12.3"
  }
 },
 "nbformat": 4,
 "nbformat_minor": 2
}
