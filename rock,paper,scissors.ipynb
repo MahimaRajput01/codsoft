{
 "cells": [
  {
   "cell_type": "code",
   "execution_count": 1,
   "metadata": {},
   "outputs": [
    {
     "name": "stdout",
     "output_type": "stream",
     "text": [
      "['rock', 'paper', 'scissors']\n",
      "users_choice = rock , computer_choice = paper\n",
      "paper beat rock : you lose\n"
     ]
    }
   ],
   "source": [
    "import random\n",
    "item_list=[\"rock\",\"paper\",\"scissors\"]\n",
    "print(item_list)\n",
    "users_choice=input(\"enter your choice from item_list :\")\n",
    "computer_choice=random.choice(item_list)\n",
    "print(\"users_choice =\",users_choice,\",\",\"computer_choice =\",computer_choice)\n",
    "if users_choice==computer_choice:\n",
    "    print(\"it's a tie\")\n",
    "elif users_choice==\"rock\" and computer_choice==\"paper\":\n",
    "     print(\"paper beat rock : you lose\")\n",
    "elif users_choice==\"rock\" and computer_choice==\"scissors\":\n",
    "      print(\"rock beat scissors : you win\")  \n",
    "elif users_choice==\"paper\" and computer_choice==\"scissors\":\n",
    "      print(\"scissors beat paper: you lose\") \n",
    "elif users_choice==\"paper\" and computer_choice==\"rock\":\n",
    "      print(\"paper beat rock: you win\") \n",
    "elif users_choice==\"scissors\" and computer_choice==\"rock\":\n",
    "      print(\"rock beat scissors: you lose\") \n",
    "elif users_choice==\"scissors\" and computer_choice==\"paper\":\n",
    "      print(\"scissors beat paper: you win\") \n"
   ]
  }
 ],
 "metadata": {
  "kernelspec": {
   "display_name": "Python 3",
   "language": "python",
   "name": "python3"
  },
  "language_info": {
   "codemirror_mode": {
    "name": "ipython",
    "version": 3
   },
   "file_extension": ".py",
   "mimetype": "text/x-python",
   "name": "python",
   "nbconvert_exporter": "python",
   "pygments_lexer": "ipython3",
   "version": "3.12.3"
  }
 },
 "nbformat": 4,
 "nbformat_minor": 2
}
