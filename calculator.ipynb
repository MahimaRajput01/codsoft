{
 "cells": [
  {
   "cell_type": "code",
   "execution_count": 1,
   "metadata": {},
   "outputs": [
    {
     "name": "stdout",
     "output_type": "stream",
     "text": [
      "select operation:-\n",
      "1.add\n",
      "2.substract\n",
      "3.multiply\n",
      "4.divide\n",
      "you choose :: 1\n",
      "first number is :: 2\n",
      "second number is :: 2\n",
      "2 + 2 = 4\n"
     ]
    }
   ],
   "source": [
    "def add(x,y):\n",
    "    return (x+y)\n",
    "\n",
    "def substract(x,y):\n",
    "    return (x-y)\n",
    "\n",
    "def multiply(x,y):\n",
    "    return (x*y)\n",
    "\n",
    "def divide(x,y):\n",
    "    return (x/y)\n",
    "\n",
    "print(\"select operation:-\")\n",
    "print(\"1.add\")\n",
    "print(\"2.substract\")\n",
    "print(\"3.multiply\")\n",
    "print(\"4.divide\")\n",
    "\n",
    "while True:\n",
    "    choice=input(\"Enter from 1/2/3/4:\")\n",
    "    if choice in ('1','2','3','4'):\n",
    "        print(\"you choose ::\",choice)\n",
    "        num1=int(input(\"Enter your first number:\"))\n",
    "        print(\"first number is ::\",num1)\n",
    "        num2=int(input(\"Enter your second number:\"))\n",
    "        print(\"second number is ::\",num2)\n",
    "\n",
    "        if choice=='1':\n",
    "            print(num1,\"+\",num2,\"=\",add(num1,num2))\n",
    "        elif choice=='2':\n",
    "            print(num1,\"-\",num2,\"=\",substract(num1,num2))\n",
    "        elif choice=='3':\n",
    "            print(num1,\"*\",num2,\"=\",multiply(num1,num2))\n",
    "        elif choice=='4':\n",
    "            print(num1,\"/\",num2,\"=\",divide(num1,num2))\n",
    "        break\n",
    "    else:\n",
    "        print(\"Please enter number between 1 to 4\")"
   ]
  }
 ],
 "metadata": {
  "kernelspec": {
   "display_name": "Python 3",
   "language": "python",
   "name": "python3"
  },
  "language_info": {
   "codemirror_mode": {
    "name": "ipython",
    "version": 3
   },
   "file_extension": ".py",
   "mimetype": "text/x-python",
   "name": "python",
   "nbconvert_exporter": "python",
   "pygments_lexer": "ipython3",
   "version": "3.12.3"
  }
 },
 "nbformat": 4,
 "nbformat_minor": 2
}
